{
 "cells": [
  {
   "cell_type": "markdown",
   "metadata": {},
   "source": [
    "## In this TD, we study the wavelet decomposition using the Daubechies 4 filters.\n",
    "### Hereafter, we compute a multiscale decomposition in the spirit of wavelets using Fourier.\n",
    "We are looking for a linear operator \n",
    "\\begin{align}\n",
    "W: \\,&\\mathbb{C}^N \\to \\mathbb{C}^{N_1} \\times \\ldots \\times \\mathbb{C}^{N_2}\\\\\n",
    "&u_0 \\mapsto (u_0,\\ldots,u_n)\\,,\n",
    "\\end{align}\n",
    "which is an isometry which means:\n",
    "\n",
    "\\begin{equation}\n",
    "\\forall u \\in \\mathbb{C}^{N_0}, \\| u \\|_2 = \\| Wu\\|_2\n",
    "\\end{equation}\n"
   ]
  },
  {
   "cell_type": "code",
   "execution_count": 90,
   "metadata": {
    "scrolled": true
   },
   "outputs": [
    {
     "name": "stdout",
     "output_type": "stream",
     "text": [
      "Populating the interactive namespace from numpy and matplotlib\n"
     ]
    }
   ],
   "source": [
    "from __future__ import division\n",
    "#from scipy.misc import imsave\n",
    "import numpy as np\n",
    "import scipy as sp\n",
    "import scipy.fftpack as ft\n",
    "import imageio as imio\n",
    "\n",
    "%pylab inline\n",
    "%matplotlib inline"
   ]
  },
  {
   "cell_type": "code",
   "execution_count": 91,
   "metadata": {},
   "outputs": [
    {
     "name": "stdout",
     "output_type": "stream",
     "text": [
      "128.31599365234374 51.560529345286696 20.049999999999997\n",
      "(512, 512)\n"
     ]
    },
    {
     "data": {
      "image/png": "[encoded data removed]",
      "text/plain": [
       "<Figure size 720x720 with 1 Axes>"
      ]
     },
     "metadata": {
      "needs_background": "light"
     },
     "output_type": "display_data"
    }
   ],
   "source": [
    "# load an image\n",
    "\n",
    "colored_image = imio.imread('res/lenna.png')\n",
    "n = 220\n",
    "image = np.sum(colored_image*[0.21, 0.72 ,0.07],axis=-1)\n",
    "plt.figure(figsize = (10,10))\n",
    "plt.subplot(1,2,1)\n",
    "plt.gray()\n",
    "cropped = image[n:n+64,n:n + 64]\n",
    "plt.title(\" Grey Level Image \" + str(np.shape(cropped)))\n",
    "\n",
    "plt.imshow(cropped)\n",
    "print(np.mean(cropped),np.std(cropped),(np.min(cropped)))\n",
    "print(image.shape)\n",
    "image0 = np.copy(image)"
   ]
  },
  {
   "cell_type": "markdown",
   "metadata": {},
   "source": [
    "## What are the conditions on the filters for being admissible wavelet filters: The first condition on the low-pass filter $h$ is \\begin{equation} \\begin{cases}|\\hat{h}(\\omega)|^2 + |\\hat{h}(\\omega + \\frac 12)|^2 = 2\\\\\\hat{h}(0) = \\sqrt{2}\\,.\\end{cases}\\end{equation}\n",
    "## The condition on the high-pass filter is the following:  \\begin{equation} \\begin{cases}|\\hat{g}(\\omega)|^2 + |\\hat{g}(\\omega + \\frac 12)|^2 = 2\\\\\\hat{g}(\\omega) \\hat{h}^*(\\omega)+ \\hat{g}(\\omega + \\frac 12)\\hat{h}^*(\\omega + \\frac 12) = 0\\,.\\end{cases}\\end{equation}\n",
    "### It is possible to find this condition by writing the orthogonality condition of the scaling function and the wavelet function at scale 0 and scale 1. It is similar to the computation presented in the previous lecture."
   ]
  },
  {
   "cell_type": "markdown",
   "metadata": {},
   "source": [
    "## Below are given the 4-Daubechies filters: the filter h corresponds to the low pass filter and the filter g corresponds to the high-pass filter. This filter is designed so that the first two moments of the wavelet function vanish. Thus, it encodes more efficiently parts of the image which have a behaviour close to a polynomial function of degree 2."
   ]
  },
  {
   "cell_type": "code",
   "execution_count": 92,
   "metadata": {},
   "outputs": [
    {
     "name": "stdout",
     "output_type": "stream",
     "text": [
      "low-pass filter associated with the scaling function [ 0.          0.48296291  0.8365163   0.22414387 -0.12940952]\n",
      "high-pass filter associated with the wavelet function [ 0.          0.12940952  0.22414387 -0.8365163   0.48296291]\n"
     ]
    }
   ],
   "source": [
    "h = [0, .482962913145, .836516303738, .224143868042, -.129409522551]\n",
    "h = h/np.linalg.norm(h) ## make sure the filter has norm 1.\n",
    "u = np.power(-ones(len(h)-1),range(1,len(h))) # alternate +1/-1\n",
    "g = np.concatenate(([0], h[-1:0:-1] * u))\n",
    "print(\"low-pass filter associated with the scaling function\",h)\n",
    "print(\"high-pass filter associated with the wavelet function\",g)"
   ]
  },
  {
   "cell_type": "markdown",
   "metadata": {},
   "source": [
    "$$\n",
    "g_{n} = (-1)^{1 - n}h_{1_n}\n",
    "$$"
   ]
  },
  {
   "cell_type": "markdown",
   "metadata": {},
   "source": [
    "### We choose below periodic boundary condition for the filtering which is the simplest condition one can use. More involved treatment of the boundaries have been developed."
   ]
  },
  {
   "cell_type": "code",
   "execution_count": 93,
   "metadata": {},
   "outputs": [],
   "source": [
    "# Below is a circular convolution implemented. \n",
    "def cconv(x, h, d):\n",
    "    if d == 1:\n",
    "        return np.transpose(cconv(np.transpose(x), h, 0))\n",
    "    y = np.zeros(x.shape)\n",
    "    p = len(h)\n",
    "    pc = int(round( float((p - 1) / 2 )))\n",
    "    for i in range(0, p):\n",
    "        y = y + h[i] * np.roll(x, pc-i, axis=0)\n",
    "    return y"
   ]
  },
  {
   "cell_type": "markdown",
   "metadata": {},
   "source": [
    "### Q1: Test that the subsampling and upsampling operators defined below ared adjoint operators. That is, you test on random vectors that the following equality holds:  $\\langle \\text{subsampling}(x),y \\rangle = \\langle \\text{upsampling}(y),x \\rangle$.\n"
   ]
  },
  {
   "cell_type": "code",
   "execution_count": 94,
   "metadata": {},
   "outputs": [],
   "source": [
    "def subsampling(x, d):\n",
    "    p = 2\n",
    "    if d == 0:\n",
    "        y = x[::p, :]\n",
    "    elif d == 1:\n",
    "        y = x[:, ::p]\n",
    "    return y\n",
    "\n",
    "\n",
    "def upsampling(x, d):\n",
    "    p = 2\n",
    "    s = x.shape\n",
    "    if d == 0:\n",
    "        y = np.zeros((p * s[0], s[1]))\n",
    "        y[::p, :] = x\n",
    "    elif d == 1:\n",
    "        y = np.zeros((s[0], p * s[1]))\n",
    "        y[:, ::p] = x\n",
    "    return y\n",
    "\n",
    "def reverse(x):\n",
    "    return x[::-1]"
   ]
  },
  {
   "cell_type": "code",
   "execution_count": 95,
   "metadata": {},
   "outputs": [
    {
     "name": "stdout",
     "output_type": "stream",
     "text": [
      "The two results: \n",
      "44.1816982047219\n",
      "44.1816982047219\n"
     ]
    }
   ],
   "source": [
    "M = 50\n",
    "n = 20\n",
    "m = 20\n",
    "x = np.random.rand(n, m)\n",
    "y = np.random.rand(n, m//2)\n",
    "\n",
    "d = 1\n",
    "v1 = np.sum(subsampling(x, d) * y)\n",
    "v2 = np.sum(upsampling(y, d) * x)\n",
    "print(\"The two results: \")\n",
    "print(v1)\n",
    "print(v2)"
   ]
  },
  {
   "cell_type": "markdown",
   "metadata": {},
   "source": [
    "### In order to extend the wavelet transform in 2D on images, simply perform the wavelet transform iteratively on the dimension of the image. \n",
    "First choose for instance, the lines of the image and perform wavelet transform thus obtaining $low scale(0)$ and $high scale(0)$ on the lines (0 is the index for the lines and 1 for the columns). Then, you apply again the wavelet transform in the other direction, let's say the columns, for each part of the transformed signal. Thus, you obtain: $high scale(1)(low scale(0))$ and $high scale(1)(high scale(0))$ and  $low scale(1)(high scale(0))$ and $low scale(1)(low scale(0))$. You thus have four parts for the 1 step wavelet transform for a given image. It is usually concatenated in an array of this type: $\\begin{pmatrix} LL & HL \\\\ LH & HH\\end{pmatrix}$ where $L$ and $H$ represent respectively low and high scale."
   ]
  },
  {
   "cell_type": "markdown",
   "metadata": {},
   "source": [
    "## Q2: Implement below the one step of W transform of the lecture. Coarse and Fine scale transforms and test it on your image."
   ]
  },
  {
   "cell_type": "code",
   "execution_count": 96,
   "metadata": {},
   "outputs": [],
   "source": [
    "def coarse(image, h, d):\n",
    "    # d is the dimension along which the operation is performed.\n",
    "    # the formula to be implemented is the convolution of x by h along the dimension d.\n",
    "    return subsampling(cconv(image, h, d), d)\n",
    "\n",
    "def fine(image, g, d):\n",
    "    # d is the dimension along which the operation is performed.\n",
    "    # the formula to be implemented is the convolution of x by g along the dimension d.\n",
    "    return subsampling(cconv(image, g, d), d)\n",
    "\n",
    "def W_0(image, h, g, wavelet_coeff=None):\n",
    "    # start with the first dimension index 0 to get coarse and fine description along this axis\n",
    "    cl, fl = coarse(image, h, 0), fine(image, g, 0)\n",
    "    ll = coarse(cl, h, 1)\n",
    "    hl = fine(  cl, g, 1)\n",
    "    lh = coarse(fl, h, 1)\n",
    "    hh = fine(  fl, g, 1)\n",
    "    # process again the previous results to get coarse and fine description along the axis of index 1.\n",
    "    # you thus should have 4 sub-images of the same size which is the initial image size divided by 4 (divide columns and rows by 2).\n",
    "    # concatenate your results in an array called results\n",
    "    \n",
    "    return np.concatenate((np.concatenate((ll, hl), 1), np.concatenate((lh, hh), 1)), 0)"
   ]
  },
  {
   "cell_type": "code",
   "execution_count": 97,
   "metadata": {},
   "outputs": [],
   "source": [
    "result = W_0(image, h, g)"
   ]
  },
  {
   "cell_type": "code",
   "execution_count": 98,
   "metadata": {},
   "outputs": [
    {
     "data": {
      "text/plain": [
       "<matplotlib.image.AxesImage at 0x7fc9f6f74a90>"
      ]
     },
     "execution_count": 98,
     "metadata": {},
     "output_type": "execute_result"
    },
    {
     "data": {
      "image/png": "[encoded data removed]",
      "text/plain": [
       "<Figure size 432x288 with 1 Axes>"
      ]
     },
     "metadata": {
      "needs_background": "light"
     },
     "output_type": "display_data"
    }
   ],
   "source": [
    "plt.imshow(result)"
   ]
  },
  {
   "cell_type": "markdown",
   "metadata": {},
   "source": [
    "## Q3: Implement the full fast wavelet transform for a given number of scales."
   ]
  },
  {
   "cell_type": "code",
   "execution_count": 99,
   "metadata": {},
   "outputs": [],
   "source": [
    "def wavelet_transform(image,h, g, iterations =1):\n",
    "    ## iterate the 1step wavelet transform implemented above.\n",
    "    w = image.copy()\n",
    "    dim = w.shape[0]\n",
    "    for i in range(iterations):\n",
    "        w[:dim, :dim] = W_0(w[:dim, :dim], h, g)\n",
    "        dim = dim//2\n",
    "    return w"
   ]
  },
  {
   "cell_type": "code",
   "execution_count": 114,
   "metadata": {},
   "outputs": [],
   "source": [
    "result = wavelet_transform(image, h, g, 2)"
   ]
  },
  {
   "cell_type": "code",
   "execution_count": 115,
   "metadata": {},
   "outputs": [
    {
     "data": {
      "text/plain": [
       "<matplotlib.image.AxesImage at 0x7fca0449c430>"
      ]
     },
     "execution_count": 115,
     "metadata": {},
     "output_type": "execute_result"
    },
    {
     "data": {
      "image/png": "[encoded data removed]",
      "text/plain": [
       "<Figure size 432x288 with 1 Axes>"
      ]
     },
     "metadata": {
      "needs_background": "light"
     },
     "output_type": "display_data"
    }
   ],
   "source": [
    "plt.imshow(result)"
   ]
  },
  {
   "cell_type": "markdown",
   "metadata": {},
   "source": [
    "## Q4: Below are functions to obtain a better plot of the results. Using the functions below, plot the wavelet transform."
   ]
  },
  {
   "cell_type": "code",
   "execution_count": null,
   "metadata": {},
   "outputs": [],
   "source": [
    "def rescale(f,a=0,b=1):\n",
    "    ## function that rescale f between a and b.\n",
    "    rang = f.max() - f.min()\n",
    "    g = (f - f.min()).copy()\n",
    "    if rang > 0:\n",
    "        g = g / rang\n",
    "    return a + g*(b-a)\n",
    "\n",
    "def rescaleWav(A):\n",
    "    ## function dedicated to a proper rescale of wavelet representation (particular case of the previous one).\n",
    "    sup = abs(A).max()\n",
    "    B = A.copy()\n",
    "    if sup > 0:\n",
    "        B = .5 + .5 * A / sup\n",
    "    return B\n",
    "    \n",
    "def PlotWavelet(wavelet, iterations=1):\n",
    "    ## Plot the wavelet representation, need to specify the number of iterations (or scales at which the FWT is computed).\n",
    "    n = wavelet.shape[1]\n",
    "    Jmax = int(np.log2(n)) - 1\n",
    "    Jmin = Jmax - iterations + 1\n",
    "    \n",
    "    U = wavelet.copy()\n",
    "    for j in np.arange(Jmax, Jmin - 1, -1):\n",
    "        U[:2 ** j:,    2 ** j:2 **\n",
    "            (j + 1):] = rescaleWav(U[:2 ** j:, 2 ** j:2 ** (j + 1):])\n",
    "        U[2 ** j:2 ** (j + 1):, :2 **\n",
    "          j:] = rescaleWav(U[2 ** j:2 ** (j + 1):, :2 ** j:])\n",
    "        U[2 ** j:2 ** (j + 1):, 2 ** j:2 ** (j + 1):] = (\n",
    "            rescaleWav(U[2 ** j:2 ** (j + 1):, 2 ** j:2 ** (j + 1):]))\n",
    "    # coarse scale\n",
    "    U[:2 ** j:, :2 ** j:] = rescale(U[:2 ** j:, :2 ** j:])\n",
    "    # plot underlying image\n",
    "    plt.imshow(U)\n",
    "    # display crosses\n",
    "    for j in np.arange(Jmax, Jmin - 1, -1):\n",
    "        plt.plot([0, 2 ** (j + 1)], [2 ** j, 2 ** j], 'b')\n",
    "        plt.plot([2 ** j, 2 ** j], [0, 2 ** (j + 1)], 'b')\n",
    "    return U"
   ]
  },
  {
   "cell_type": "markdown",
   "metadata": {},
   "source": [
    "## Q5: The wavelet transform is an orthogonal transformation so its inverse is given by its transpose (also called adjoint). Use the two operators defined below to implement the inverse of the wavelet transform."
   ]
  },
  {
   "cell_type": "code",
   "execution_count": null,
   "metadata": {},
   "outputs": [],
   "source": [
    "def AdjointCoarse(image,d):\n",
    "    adjoint_h = reverse(h)\n",
    "    return cconv(upsampling(image,d),adjoint_h,d)\n",
    "def AdjointFine(image,d):\n",
    "    adjoint_g = reverse(g)\n",
    "    return cconv(upsampling(image,d),adjoint_g,d)"
   ]
  },
  {
   "cell_type": "code",
   "execution_count": null,
   "metadata": {},
   "outputs": [],
   "source": [
    "# Hereafter, you just implement the inverse of a one-step wavelet transform.\n",
    "def IW_0(wavelet):\n",
    "    # you can use the temporary variables defined below.\n",
    "    #n = np.shape(wavelet)[0]//2\n",
    "    #temp_hc_vc = wavelet[0:n,0:n]\n",
    "    #temp_hc_vf = wavelet[0:n,n:]\n",
    "    #temp_hf_vc = wavelet[n:,0:n]\n",
    "    #temp_hf_vf = wavelet[n:,n:]\n",
    "    \n",
    "    # implement here the adjoint on each directions and then on the full vector.\n",
    "    \n",
    "    return result\n",
    "\n",
    "# once the function above is implemented, the full wavelet inversion reads like this:\n",
    "def IWT(wavelet,iterations = 3):\n",
    "    image = np.copy(wavelet)\n",
    "    for i in reverse(range(iterations)):\n",
    "        cut = np.shape(wavelet)[0]//(2**i)\n",
    "        image[0:cut,0:cut] = IW_0(image[0:cut,0:cut])\n",
    "    return image\n",
    "    "
   ]
  },
  {
   "cell_type": "markdown",
   "metadata": {},
   "source": [
    "   ## Q6: Test on an image that the implemented inverse is correct. That is, check on an image $x$ that $IWT(WaveletTransform(x)) = x$ up to numerical errors."
   ]
  },
  {
   "cell_type": "markdown",
   "metadata": {},
   "source": [
    "# Use of wavelets for compression."
   ]
  },
  {
   "cell_type": "markdown",
   "metadata": {},
   "source": [
    "## Q7: Plot the histogram of the wavelet coefficients just to see the repartition between small and large coefficients by modifying the code below. You should see that most of the coefficients are close to $0$ and few are large coefficients. Thus, the idea is that lossy compression might perform well on this data."
   ]
  },
  {
   "cell_type": "code",
   "execution_count": null,
   "metadata": {},
   "outputs": [],
   "source": [
    "#temp = result.flatten()\n",
    "#import pylab as pl\n",
    "#pl.hist(temp,bins = linspace(-2,200,100))\n",
    "#temp.sort()\n",
    "#print(len(temp))\n",
    "#print(temp[500])\n"
   ]
  },
  {
   "cell_type": "markdown",
   "metadata": {},
   "source": [
    "## Q8: Consider the 20% largest coefficients of the wavelet transform and put all the remaining coefficients to $0$ and show the resulting approximating image. Do the same with Fourier transform by calling the $fft2$ function and compare visually and compare using the function implemented below which is the signal to noise ratio function."
   ]
  },
  {
   "cell_type": "code",
   "execution_count": null,
   "metadata": {},
   "outputs": [],
   "source": [
    "def snr(x, y):\n",
    "    s =  np.linalg.norm(x - y)\n",
    "    if s == 0:\n",
    "        return \"Equal inputs\"\n",
    "    return 20 * np.log10(np.linalg.norm(x) /s)"
   ]
  },
  {
   "cell_type": "markdown",
   "metadata": {},
   "source": [
    "## Last note that one can look at the wavelet function by plotting the image of a Dirac mass. Run and play with the code below."
   ]
  },
  {
   "cell_type": "code",
   "execution_count": null,
   "metadata": {},
   "outputs": [],
   "source": [
    "n = 32\n",
    "dirac = np.zeros((n,n))\n",
    "dirac[20,20] = 1\n",
    "ondelette = IW_0(dirac)\n",
    "plt.imshow(ondelette)"
   ]
  },
  {
   "cell_type": "code",
   "execution_count": null,
   "metadata": {},
   "outputs": [],
   "source": []
  }
 ],
 "metadata": {
  "kernelspec": {
   "display_name": "Python 3",
   "language": "python",
   "name": "python3"
  },
  "language_info": {
   "codemirror_mode": {
    "name": "ipython",
    "version": 3
   },
   "file_extension": ".py",
   "mimetype": "text/x-python",
   "name": "python",
   "nbconvert_exporter": "python",
   "pygments_lexer": "ipython3",
   "version": "3.8.3"
  }
 },
 "nbformat": 4,
 "nbformat_minor": 2
}
