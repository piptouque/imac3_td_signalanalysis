{
 "cells": [
  {
   "cell_type": "markdown",
   "metadata": {},
   "source": [
    "## A. The goal of this part is to implement the Huffman coding and how it can be enhanced to reach the optimal bound."
   ]
  },
  {
   "cell_type": "code",
   "execution_count": 6,
   "metadata": {},
   "outputs": [],
   "source": [
    "from __future__ import division\n",
    "import numpy as np\n",
    "import scipy as sp\n",
    "import pylab as pl\n",
    "import scipy.signal as sg\n",
    "import matplotlib.pyplot as plt"
   ]
  },
  {
   "cell_type": "markdown",
   "metadata": {},
   "source": [
    "### The definition of the entropy: Given a probability vector on a finite space $\\Omega = \\{\\omega_1,\\ldots,\\omega_n\\}$ denoted by $p = (p_1,\\ldots,p_n)$. The entropy is the quantity defined by $H(p) = -\\sum_{i = 1}^n p_i \\log(p_i)$. It's a concave function which is positive since $p_i \\in [0,1]$ and thus $\\log(p_i) \\geq 0$."
   ]
  },
  {
   "cell_type": "code",
   "execution_count": 7,
   "metadata": {},
   "outputs": [],
   "source": [
    "def ShannonEntropy(p):\n",
    "    return -np.sum(p*np.log2(np.maximum(p,1e-15)))"
   ]
  },
  {
   "cell_type": "code",
   "execution_count": 8,
   "metadata": {},
   "outputs": [
    {
     "data": {
      "text/plain": [
       "[<matplotlib.lines.Line2D at 0x7f3c32e02c40>]"
      ]
     },
     "execution_count": 8,
     "metadata": {},
     "output_type": "execute_result"
    },
    {
     "data": {
      "image/png": "[encoded data removed]",
      "text/plain": [
       "<Figure size 432x288 with 1 Axes>"
      ]
     },
     "metadata": {
      "needs_background": "light"
     },
     "output_type": "display_data"
    }
   ],
   "source": [
    "n = 200\n",
    "x = np.linspace(1e-10,1,n)\n",
    "plt.title(\"Shannon entropy\")\n",
    "plt.plot(x,-x*np.log2(x))"
   ]
  },
  {
   "cell_type": "markdown",
   "metadata": {},
   "source": [
    "## In what follows, we consider that the $\\omega_i$ are letters of some alphabet which have a frequency of appearance of $p_i$."
   ]
  },
  {
   "cell_type": "code",
   "execution_count": 9,
   "metadata": {},
   "outputs": [
    {
     "name": "stdout",
     "output_type": "stream",
     "text": [
      "[0.3046875 0.6953125]\n",
      "Empirical p = 0.30\n"
     ]
    }
   ],
   "source": [
    "## Generate a random text according to the frequencies.\n",
    "n = 512; p = 0.3\n",
    "x = (np.random.rand(n) > p) + 1\n",
    "h = [np.sum(x == 1), np.sum(x == 2)]\n",
    "h = h/np.sum(h)\n",
    "print(h)\n",
    "print(\"Empirical p = %.2f\" %h[0])"
   ]
  },
  {
   "cell_type": "code",
   "execution_count": 10,
   "metadata": {},
   "outputs": [
    {
     "name": "stdout",
     "output_type": "stream",
     "text": [
      "Entropy = 0.89\n"
     ]
    }
   ],
   "source": [
    "e = ShannonEntropy(h)\n",
    "print(\"Entropy = %.2f\" %e)"
   ]
  },
  {
   "cell_type": "code",
   "execution_count": 11,
   "metadata": {},
   "outputs": [
    {
     "name": "stdout",
     "output_type": "stream",
     "text": [
      "2.1464393446710153\n"
     ]
    }
   ],
   "source": [
    "### Definition of the probability h\n",
    "h = [.1, .15, .4, .15, .2]\n",
    "print(ShannonEntropy(h))"
   ]
  },
  {
   "cell_type": "markdown",
   "metadata": {},
   "source": [
    "### We use a python library to represent a binary tree. We assume that the tree is coded in the following way, here is an example, $(a,((b,c),(d,e))$."
   ]
  },
  {
   "cell_type": "code",
   "execution_count": 40,
   "metadata": {},
   "outputs": [
    {
     "data": {
      "image/png": "[encoded data removed]",
      "text/plain": [
       "<IPython.core.display.Image object>"
      ]
     },
     "execution_count": 40,
     "metadata": {},
     "output_type": "execute_result"
    }
   ],
   "source": [
    "## import ete3 using if you have conda: \n",
    "## conda install -c etetoolkit ete3\n",
    "## otherwise try: pip install ete3\n",
    "from ete3 import Tree, TreeNode, TreeStyle , NodeStyle, AttrFace, faces\n",
    "## Define the tree\n",
    "T = (\"a\",((\"b\",\"c\"),(\"d\",\"e\")))\n",
    "\n",
    "t = Tree(str(T)+\";\")\n",
    "\n",
    "\n",
    "ts = TreeStyle()\n",
    "#ts.rotation = 90\n",
    "ts.scale = 90\n",
    "ts.branch_vertical_margin = 50 # 10 pixels between adjacent branches\n",
    "ts.show_leaf_name = False #\n",
    "\n",
    "nstyle = NodeStyle()\n",
    "nstyle[\"shape\"] = \"square\"\n",
    "nstyle[\"size\"] = 20\n",
    "nstyle[\"fgcolor\"] = \"orange\"\n",
    "\n",
    "for n in t.traverse():\n",
    "    n.set_style(nstyle)\n",
    "\n",
    "for node in t.iter_leaves():\n",
    "    node.add_face(AttrFace(\"name\", fsize=20), column=0)  \n",
    "    \n",
    "t.render(\"%%inline\", tree_style = ts)"
   ]
  },
  {
   "cell_type": "markdown",
   "metadata": {},
   "source": [
    "### Q1. Write a function that generates the Huffman tree with the probability $h$ as input. Plot the tree with the function above. "
   ]
  },
  {
   "cell_type": "code",
   "execution_count": 43,
   "metadata": {},
   "outputs": [],
   "source": [
    "key_prob = \"prob\"\n",
    "key_code = \"code\"\n",
    "\n",
    "def GetDuffman(h, values):\n",
    "   \n",
    "    # Ts is a list of nodes\n",
    "    # We will index probability with dist\n",
    "    ts = [TreeNode()] * len(h)\n",
    "    for i in range(len(h)):\n",
    "        t = TreeNode(name = values[i])\n",
    "        t.add_feature(key_prob, h[i]) # set probability\n",
    "        ts[i] = t\n",
    "    while len(ts) > 1:\n",
    "        n = len(ts) \n",
    "        # in place\n",
    "        ts.sort(reverse=True, key=lambda node : getattr(node, key_prob))\n",
    "        penul = ts[n-2]\n",
    "        ul    = ts[n-1]\n",
    "        # add attributes of path (either 0, or 1)\n",
    "        penul.add_feature(key_code, 1)\n",
    "        ul.add_feature(key_code, 0)\n",
    "        node = TreeNode()\n",
    "        # cumulative probability\n",
    "        node.add_feature(\n",
    "            key_prob, getattr(penul, key_prob) \n",
    "            + getattr(ul, key_prob)\n",
    "        )\n",
    "        node.add_child(penul)\n",
    "        node.add_child(ul)\n",
    "        ts[n-2] = node\n",
    "        ts.pop()\n",
    "    t = ts[0]\n",
    "    return t\n",
    "\n"
   ]
  },
  {
   "cell_type": "code",
   "execution_count": 59,
   "metadata": {},
   "outputs": [
    {
     "data": {
      "image/png": "[encoded data removed]",
      "text/plain": [
       "<IPython.core.display.Image object>"
      ]
     },
     "execution_count": 59,
     "metadata": {},
     "output_type": "execute_result"
    }
   ],
   "source": [
    "h   = [.1, .15, .4, .15, .2]\n",
    "values = [\"you\", \"gonna\", \"up\", \"give\",\"never\"]\n",
    "\n",
    "t = GetDuffman(h, values)\n",
    "\n",
    "ts = TreeStyle()\n",
    "#ts.rotation = 90\n",
    "ts.scale = 90\n",
    "ts.branch_vertical_margin = 50 # 10 pixels between adjacent branches\n",
    "ts.show_leaf_name = False #\n",
    "\n",
    "nstyle = NodeStyle()\n",
    "nstyle[\"shape\"] = \"square\"\n",
    "nstyle[\"size\"] = 20\n",
    "nstyle[\"fgcolor\"] = \"orange\"\n",
    "for n in t.traverse():\n",
    "    n.set_style(nstyle)\n",
    "\n",
    "for node in t.iter_leaves():\n",
    "    node.add_face(AttrFace(\"name\", fsize=20), column=0)\n",
    "\n",
    "t.render(\"%%inline\", tree_style = ts) \n"
   ]
  },
  {
   "cell_type": "markdown",
   "metadata": {},
   "source": [
    "### Q2. Write the function HuffmanGencode which computes the Huffman code of an element in $0,1,2,3,4$  and prints it."
   ]
  },
  {
   "cell_type": "code",
   "execution_count": 45,
   "metadata": {},
   "outputs": [],
   "source": [
    "def ParseBin(s):\n",
    "    # reverse the string\n",
    "    s = s[::-1]\n",
    "    # parse from binary (base 2)\n",
    "    return bin(int(s, 2))\n",
    "\n",
    "def GetCodeLeaf(leaf):\n",
    "    parent = leaf\n",
    "    code = \"\"\n",
    "    while (not (parent == None or parent.is_root())):\n",
    "        code += str(getattr(parent, key_code))\n",
    "        parent = parent.up\n",
    "    code = ParseBin(code)\n",
    "    return code\n",
    "\n",
    "def HuffmanGencode(t, elements):\n",
    "    codes = {}  ## dictionnary the key is a number and \n",
    "                ## the value is the code in 0,1.\n",
    "    for leaf in t.iter_leaves():\n",
    "        # key_value -> element\n",
    "        codes[leaf.name] = GetCodeLeaf(leaf)\n",
    "    return codes    "
   ]
  },
  {
   "cell_type": "code",
   "execution_count": 53,
   "metadata": {},
   "outputs": [
    {
     "name": "stdout",
     "output_type": "stream",
     "text": [
      "{4: '0b111', 1: '0b110', 3: '0b101', 0: '0b100', 2: '0b0'}\n"
     ]
    }
   ],
   "source": [
    "h   = [.1, .15, .4, .15, .2]\n",
    "values = np.arange(5)\n",
    "\n",
    "t = GetDuffman(h, values)\n",
    "\n",
    "codes = HuffmanGencode(t, values)\n",
    "print(codes)"
   ]
  },
  {
   "cell_type": "markdown",
   "metadata": {},
   "source": [
    "### Q3. Write a function that generates a random sequence of numbers between $0$ and $4$ according to the probability $h$."
   ]
  },
  {
   "cell_type": "code",
   "execution_count": 96,
   "metadata": {},
   "outputs": [],
   "source": [
    "def RandGen(p, number, lowest, largest):\n",
    "    # binomial distribution of number elements in [lowest, largest]\n",
    "    # with parameter p\n",
    "    b = np.random.binomial(largest - lowest, p, number)\n",
    "    return  b + np.full_like(b, lowest)"
   ]
  },
  {
   "cell_type": "code",
   "execution_count": 97,
   "metadata": {},
   "outputs": [
    {
     "name": "stdout",
     "output_type": "stream",
     "text": [
      "[2 2 3 2 2 2 3 3 2 2 3 1 1 1 2 2 3 1 1 1 1 1 1 0 1 0 3 0 2 3 2 1 3 2 2 3 1\n",
      " 2 0 3 1 2 4 1 0 1 1 2 2 2 1 3 2 0 0 1 2 2 0 2 1 0 3 1 1 3 2 1 1 4 0 2 1 0\n",
      " 1 1 2 0 1 3 2 0 2 1 1 0 2 0 1 2 1 2 1 3 2 2 1 1 3 1 2 0 1 2 2 1 2 0 3 1 2\n",
      " 1 2 2 1 2 0 0 2 2 0 1 2 2 3 0 1 0 1 1 1 2 2 3 1 2 3 0 1 1 1 3 3 2 0 1 2 3\n",
      " 1 2 2 1 2 3 0 2 1 0 1 1 4 3 1 0 0 0 2 3 1 2 1 2 2 2 0 2 0 2 2 1 1 4 2 1 3\n",
      " 3 3 1 2 1 2 2 0 1 2 4 1 1 1 4 0 2 3 1 2 3 0 2 3 0 2 2 1 2 1 0 2 2 1 1 3 2\n",
      " 2 3 1 3 1 2 1 1 1 1 1 1 1 2 1 1 1 2 1 0 4 2 3 0 1 1 2 1 0 1 2 2 1 3 2 1 2\n",
      " 2 1 1 3 1 2 1 1 3 1 4 1 2 3 2 2 1 3 1 1 2 1 2 1 4 2 0 1 2 2 2 1 1 0 1 1 2\n",
      " 1 1 2 1 2 2 2 1 1 1 2 2 2 2 2 1 3 1 2 0 1 1 2 3 1 2 2 2 1 1 2 1 3 1 0 1 1\n",
      " 3 2 1 2 2 2 1 1 1 0 2 1 1 3 1 0 3 2 0 0 4 1 2 1 3 1 1 1 0 2 3 0 2 4 4 1 3\n",
      " 0 1 1 1 1 1 0 0 0 0 2 2 3 3 3 2 1 1 2 2 1 2 2 1 2 1 1 2 0 2 1 2 4 2 2 1 2\n",
      " 1 2 1 2 2 1 0 1 1 3 1 1 3 2 2 1 1 0 1 1 3 1 3 2 2 2 3 2 3 3 4 1 3 0 4 3 0\n",
      " 2 2 2 2 2 1 2 2 2 2 3 0 2 0 2 1 1 3 2 2 3 1 0 0 3 2 0 2 2 3 1 2 2 1 0 2 3\n",
      " 3 3 1 3 3 2 1 2 1 3 2 2 3 3 2 2 3 1 2 2 1 1 3 1 0 4 2 2 1 1 1]\n"
     ]
    }
   ],
   "source": [
    "p = .4\n",
    "x = RandGen(p, 512, 0, 4)\n",
    "print(x)"
   ]
  },
  {
   "cell_type": "code",
   "execution_count": 98,
   "metadata": {},
   "outputs": [],
   "source": [
    "def GetValuesAndProbabilities(x):\n",
    "    # values -> x without duplicate\n",
    "    values = list(dict.fromkeys(x))\n",
    "    h = [\n",
    "        x.count(val) / len(x) \n",
    "        for val in x\n",
    "    ]\n",
    "    return h, values\n",
    "\n",
    "def BinToString(b):\n",
    "    return "
   ]
  },
  {
   "cell_type": "markdown",
   "metadata": {},
   "source": [
    "### Q4. Write a function which maps a random sequence as above into its Huffman code and test it."
   ]
  },
  {
   "cell_type": "code",
   "execution_count": 99,
   "metadata": {},
   "outputs": [],
   "source": [
    "def CodeHuffman(x,codes):\n",
    "    result = \"\"\n",
    "    for val in x:\n",
    "        # remove to 0b that signifies it's a binary number\n",
    "        result += str(codes[val]).replace(\"Ob\")\n",
    "    return result"
   ]
  },
  {
   "cell_type": "code",
   "execution_count": 100,
   "metadata": {},
   "outputs": [
    {
     "name": "stdout",
     "output_type": "stream",
     "text": [
      "0b00b00b1010b00b00b00b1010b1010b00b00b1010b1100b1100b1100b00b00b1010b1100b1100b1100b1100b1100b1100b1000b1100b1000b1010b1000b00b1010b00b1100b1010b00b00b1010b1100b00b1000b1010b1100b00b1110b1100b1000b1100b1100b00b00b00b1100b1010b00b1000b1000b1100b00b00b1000b00b1100b1000b1010b1100b1100b1010b00b1100b1100b1110b1000b00b1100b1000b1100b1100b00b1000b1100b1010b00b1000b00b1100b1100b1000b00b1000b1100b00b1100b00b1100b1010b00b00b1100b1100b1010b1100b00b1000b1100b00b00b1100b00b1000b1010b1100b00b1100b00b00b1100b00b1000b1000b00b00b1000b1100b00b00b1010b1000b1100b1000b1100b1100b1100b00b00b1010b1100b00b1010b1000b1100b1100b1100b1010b1010b00b1000b1100b00b1010b1100b00b00b1100b00b1010b1000b00b1100b1000b1100b1100b1110b1010b1100b1000b1000b1000b00b1010b1100b00b1100b00b00b00b1000b00b1000b00b00b1100b1100b1110b00b1100b1010b1010b1010b1100b00b1100b00b00b1000b1100b00b1110b1100b1100b1100b1110b1000b00b1010b1100b00b1010b1000b00b1010b1000b00b00b1100b00b1100b1000b00b00b1100b1100b1010b00b00b1010b1100b1010b1100b00b1100b1100b1100b1100b1100b1100b1100b00b1100b1100b1100b00b1100b1000b1110b00b1010b1000b1100b1100b00b1100b1000b1100b00b00b1100b1010b00b1100b00b00b1100b1100b1010b1100b00b1100b1100b1010b1100b1110b1100b00b1010b00b00b1100b1010b1100b1100b00b1100b00b1100b1110b00b1000b1100b00b00b00b1100b1100b1000b1100b1100b00b1100b1100b00b1100b00b00b00b1100b1100b1100b00b00b00b00b00b1100b1010b1100b00b1000b1100b1100b00b1010b1100b00b00b00b1100b1100b00b1100b1010b1100b1000b1100b1100b1010b00b1100b00b00b00b1100b1100b1100b1000b00b1100b1100b1010b1100b1000b1010b00b1000b1000b1110b1100b00b1100b1010b1100b1100b1100b1000b00b1010b1000b00b1110b1110b1100b1010b1000b1100b1100b1100b1100b1100b1000b1000b1000b1000b00b00b1010b1010b1010b00b1100b1100b00b00b1100b00b00b1100b00b1100b1100b00b1000b00b1100b00b1110b00b00b1100b00b1100b00b1100b00b00b1100b1000b1100b1100b1010b1100b1100b1010b00b00b1100b1100b1000b1100b1100b1010b1100b1010b00b00b00b1010b00b1010b1010b1110b1100b1010b1000b1110b1010b1000b00b00b00b00b00b1100b00b00b00b00b1010b1000b00b1000b00b1100b1100b1010b00b00b1010b1100b1000b1000b1010b00b1000b00b00b1010b1100b00b00b1100b1000b00b1010b1010b1010b1100b1010b1010b00b1100b00b1100b1010b00b00b1010b1010b00b00b1010b1100b00b00b1100b1100b1010b1100b1000b1110b00b00b1100b1100b110\n"
     ]
    }
   ],
   "source": [
    "code = CodeHuffman(x,codes)\n",
    "print(code)"
   ]
  },
  {
   "cell_type": "markdown",
   "metadata": {},
   "source": [
    "### Q5. Compare with the Shannon bound.\n",
    "### Q6. Write below a function that decodes the Huffman code and test it on a random sequence. Check that it is the inverse of the coding map."
   ]
  },
  {
   "cell_type": "code",
   "execution_count": null,
   "metadata": {},
   "outputs": [],
   "source": [
    "def DecodeHuffman(code,T):\n",
    "    result = []\n",
    "    return np.asarray(result)"
   ]
  },
  {
   "cell_type": "markdown",
   "metadata": {},
   "source": [
    "## Block Huffman coding to reach better performances. \n",
    "### We consider a probability as below on an alphabet of two letters $a,b$.\n",
    "\n",
    "### Q7: Compute the entropy associated with this probability and generalize for an alphabet described by blocks of $k$ letters."
   ]
  },
  {
   "cell_type": "code",
   "execution_count": null,
   "metadata": {},
   "outputs": [],
   "source": [
    "t = .12\n",
    "h = [t, 1-t]\n",
    "n = 20000\n",
    "x = (np.random.rand(n) > t) + 1"
   ]
  },
  {
   "cell_type": "markdown",
   "metadata": {},
   "source": [
    "### Q7bis. Compare the length of the Huffman code and the Shannon bound. How to explain the difference ? In order to improve the result, we use Huffman coding on blocks of length $k$. "
   ]
  },
  {
   "cell_type": "markdown",
   "metadata": {},
   "source": [
    "### Q8. Write a code that takes as input a sequence of length $k$ of letters and associate a binary code. Then, write a function that takes as inputs a random sequence its code by block of length $k$. We assume that the length is a multiple of $k$."
   ]
  },
  {
   "cell_type": "code",
   "execution_count": null,
   "metadata": {},
   "outputs": [],
   "source": [
    "def CodeBlocks(x):\n",
    "    return 0\n",
    "def GenNewCode(x):\n",
    "    return 0"
   ]
  },
  {
   "cell_type": "markdown",
   "metadata": {},
   "source": [
    "### Q9. Write a function that gives the empirical probability of the message encoded by $k$-blocks."
   ]
  },
  {
   "cell_type": "code",
   "execution_count": null,
   "metadata": {},
   "outputs": [],
   "source": [
    "def EstimateProbabilites(code,taille_blocs):\n",
    "    return 0"
   ]
  },
  {
   "cell_type": "markdown",
   "metadata": {},
   "source": [
    "### Q10. Given a random sequence generated from the probability $h$, plot the performance of the Huffman code (length of the code - Shannon bound) in terms of $k$ the block length. Comment."
   ]
  },
  {
   "cell_type": "markdown",
   "metadata": {},
   "source": [
    "# B. The goal of this part is to explore implementations of a FIR or an IIR."
   ]
  },
  {
   "cell_type": "markdown",
   "metadata": {},
   "source": [
    "## Q1. Implement an ideal low pass filter using Fourier transform in 1D:\n",
    "### Compute the inverse FFT of a low pass filter and cut it with a window that will be passed in argument. "
   ]
  },
  {
   "cell_type": "markdown",
   "metadata": {},
   "source": [
    "## Q2. Implement an IIR filter defined by its numerator which will be set to a  constant $b$ and its denominator which will be set to $1-az^{-1}$. \n",
    "### What can you say about the range of the parameter $a$ in order to obtain a stable filter. \n",
    "### Experimentally, determine the ranges of $a$ to get respectively a low-pass filter and a high-pass filter. Give a theoretical explanation."
   ]
  },
  {
   "cell_type": "markdown",
   "metadata": {},
   "source": [
    "## In the following, we are given an electrocardiogram. We plot it as a function of time and we "
   ]
  },
  {
   "cell_type": "code",
   "execution_count": null,
   "metadata": {},
   "outputs": [],
   "source": [
    "### load the data which is an electrocardiogram which is sampled at 360Hz\n",
    "ecg = sp.misc.electrocardiogram()\n",
    "### Different plots.\n",
    "fs = 360.0\n",
    "### Since it is sampled at 360Hz, recall that Hz is the number of cycle per second, then the\n",
    "### time is obtained as follows:\n",
    "time = np.arange(ecg.size) / fs\n",
    "### simple plot.\n",
    "plt.plot(time, ecg)\n",
    "plt.xlabel(\"time in s\")\n",
    "plt.ylabel(\"ECG in mV\")\n",
    "plt.xlim(9, 10.2)\n",
    "plt.ylim(-1, 1.5)\n",
    "plt.show()\n",
    "print(\"time min\", time[0])\n",
    "print(\"time max\", time[-1])"
   ]
  },
  {
   "cell_type": "code",
   "execution_count": null,
   "metadata": {},
   "outputs": [],
   "source": [
    "### Use the scipy function to get the power spectrum of the signal.\n",
    "f, Pxx = sg.welch(ecg, fs=fs, nperseg=2048, scaling=\"spectrum\")\n",
    "plt.semilogy(f, Pxx)\n",
    "plt.xlabel(\"Frequency in Hz\")\n",
    "plt.ylabel(\"Power spectrum of the ECG in mV**2\")\n",
    "plt.xlim(f[[0, -1]])\n",
    "plt.show()"
   ]
  },
  {
   "cell_type": "markdown",
   "metadata": {},
   "source": [
    "### Q3. Estimate the number of heartbeats in the following electrocardiogram and estimate the mean value of the interval between two heartbeats. You can use the method of your choice. A possible method consists in using a band pass filter and then extract the maximum values of the filtered signal."
   ]
  },
  {
   "cell_type": "code",
   "execution_count": null,
   "metadata": {},
   "outputs": [],
   "source": []
  }
 ],
 "metadata": {
  "kernelspec": {
   "display_name": "Python 3",
   "language": "python",
   "name": "python3"
  },
  "language_info": {
   "codemirror_mode": {
    "name": "ipython",
    "version": 3
   },
   "file_extension": ".py",
   "mimetype": "text/x-python",
   "name": "python",
   "nbconvert_exporter": "python",
   "pygments_lexer": "ipython3",
   "version": "3.8.3"
  }
 },
 "nbformat": 4,
 "nbformat_minor": 2
}
